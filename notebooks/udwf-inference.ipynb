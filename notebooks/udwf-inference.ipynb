{
 "cells": [
  {
   "cell_type": "code",
   "execution_count": null,
   "id": "e03cfd1e-4175-4aea-8fb9-2f09923ba510",
   "metadata": {},
   "outputs": [],
   "source": [
    "import itertools\n",
    "import pprint\n",
    "import warnings\n",
    "\n",
    "import ibis\n",
    "from codetiming import Timer\n",
    "\n",
    "import letsql as ls\n",
    "import nasa_avionics_data_ml.settings as S\n",
    "import nasa_avionics_data_ml.zip_data as ZD\n",
    "from nasa_avionics_data_ml.letsql_udwf_inference import (\n",
    "    asof_join_flight_data,\n",
    "    do_manual_batch,\n",
    "    make_evaluate_all,\n",
    "    make_rate_to_parquet,\n",
    "    read_model_and_scales,\n",
    "    union_cached_asof_joined_flight_data,\n",
    ")\n",
    "from nasa_avionics_data_ml.lib import Config"
   ]
  },
  {
   "cell_type": "code",
   "execution_count": null,
   "id": "a070a518-14d4-43f2-99be-3d4a5179bea7",
   "metadata": {},
   "outputs": [],
   "source": [
    "(order_by, group_by) = (\"time\", \"flight\")\n",
    "tail = \"Tail_652_1\"\n",
    "\n",
    "return_type = \"float64\""
   ]
  },
  {
   "cell_type": "code",
   "execution_count": null,
   "id": "9ca7b574-f0af-4152-8055-92e0c89be228",
   "metadata": {},
   "outputs": [],
   "source": [
    "(config, *_) = Config.get_debug_configs()\n",
    "(model, scaleX, scaleT) = read_model_and_scales()\n",
    "for p in S.parquet_cache_path.iterdir():\n",
    "    p.unlink()\n",
    "print(tuple(S.parquet_cache_path.iterdir()))"
   ]
  },
  {
   "cell_type": "markdown",
   "id": "be2b1197-9b8f-4cce-8581-98ddc34930e9",
   "metadata": {},
   "source": [
    "## Demonstrate query of remote data into local engine tha"
   ]
  },
  {
   "cell_type": "code",
   "execution_count": null,
   "id": "c18f3451-a85e-4764-9683-6af8fdcb9dc4",
   "metadata": {},
   "outputs": [],
   "source": [
    "# get 8 flights from tail 652_1\n",
    "(flight_data, *_) = flight_datas = tuple(itertools.islice(\n",
    "    next(td for td in ZD.TailData.gen_from_data_dir() if td.tail == tail).gen_parquet_exists(),\n",
    "    8,\n",
    "))\n",
    "single_expr = asof_join_flight_data(flight_data)"
   ]
  },
  {
   "cell_type": "code",
   "execution_count": null,
   "id": "70d5ff49-cd34-46bf-b1a7-9ca190241c00",
   "metadata": {},
   "outputs": [],
   "source": [
    "pprint.pprint(make_rate_to_parquet(flight_data))\n",
    "print(ls.to_sql(single_expr))"
   ]
  },
  {
   "cell_type": "markdown",
   "id": "238926b1-d2ee-41ba-8d29-03d6ec9c0774",
   "metadata": {},
   "source": [
    "## Create the deferred udwf expression to run inference"
   ]
  },
  {
   "cell_type": "code",
   "execution_count": null,
   "id": "78aaaefa-b19d-4c26-928d-0fdd6b7ca0ef",
   "metadata": {},
   "outputs": [],
   "source": [
    "evaluate_all = make_evaluate_all(\n",
    "    ibis.schema({name: float for name in config.x_names}),\n",
    "    return_type, model, 8, scaleX, scaleT,\n",
    ")\n",
    "expr = union_cached_asof_joined_flight_data(*flight_datas)\n",
    "window = ibis.window(\n",
    "    preceding=config.seq_length-1,\n",
    "    following=0,\n",
    "    order_by=order_by,\n",
    "    group_by=group_by,\n",
    ")\n",
    "with_prediction = (\n",
    "    expr\n",
    "    .mutate(predicted=evaluate_all.on_expr(expr).over(window))\n",
    ")"
   ]
  },
  {
   "cell_type": "markdown",
   "id": "bec53a59-3889-4857-8178-98fed63225fe",
   "metadata": {},
   "source": [
    "## Run inference"
   ]
  },
  {
   "cell_type": "code",
   "execution_count": null,
   "id": "300aca91-3970-4664-b7b3-65ccf117d6ba",
   "metadata": {},
   "outputs": [],
   "source": [
    "with warnings.catch_warnings():\n",
    "    warnings.simplefilter(\"ignore\")\n",
    "    with Timer(\"from_letsql\"):\n",
    "        from_letsql = ls.execute(with_prediction.order_by(group_by, order_by))\n",
    "print(tuple(S.parquet_cache_path.iterdir()))"
   ]
  },
  {
   "cell_type": "code",
   "execution_count": null,
   "id": "47aa4e0d-7c6b-4312-aa1a-13ca39eba844",
   "metadata": {},
   "outputs": [],
   "source": [
    "# clear the cache\n",
    "for p in S.parquet_cache_path.iterdir(): p.unlink()\n",
    "with Timer(\"from_manual\"):\n",
    "    from_manual = (\n",
    "        do_manual_batch(expr, model, config.seq_length, scaleX, scaleT, return_type, config.xlist, group_by, order_by)\n",
    "        .sort_values([group_by, order_by], ignore_index=True)\n",
    "    )"
   ]
  },
  {
   "cell_type": "code",
   "execution_count": null,
   "id": "bccf6ff5-8123-433e-ba75-a913497d5d21",
   "metadata": {},
   "outputs": [],
   "source": [
    "assert from_manual.equals(from_letsql)"
   ]
  },
  {
   "cell_type": "code",
   "execution_count": null,
   "id": "5a6a9e64-a10c-4a0c-ab92-e0e1ad4f846a",
   "metadata": {},
   "outputs": [],
   "source": [
    "# run with warm cache\n",
    "with Timer(\"from_letsql cached\"):\n",
    "    from_letsql = ls.execute(with_prediction.order_by(group_by, order_by))\n",
    "print(tuple(S.parquet_cache_path.iterdir()))"
   ]
  },
  {
   "cell_type": "markdown",
   "id": "5d07f908-8fef-4fcd-98aa-f7da0b46418f",
   "metadata": {},
   "source": [
    "## Inspect the data, evaulate inference"
   ]
  },
  {
   "cell_type": "code",
   "execution_count": null,
   "id": "f101c38f-ca08-41db-9531-09195e6ade9c",
   "metadata": {},
   "outputs": [],
   "source": [
    "from_letsql"
   ]
  },
  {
   "cell_type": "code",
   "execution_count": null,
   "id": "6e2f6df4-23dd-48c9-8490-d3a3613d066b",
   "metadata": {},
   "outputs": [],
   "source": [
    "for (flight, df) in from_letsql.groupby(\"flight\"):\n",
    "    ax = df.set_index(\"time\")[[\"ALT\", \"predicted\"]].plot()\n",
    "    ax.set_title(f\"flight = {flight:}\")"
   ]
  }
 ],
 "metadata": {
  "kernelspec": {
   "display_name": "Python 3 (ipykernel)",
   "language": "python",
   "name": "python3"
  },
  "language_info": {
   "codemirror_mode": {
    "name": "ipython",
    "version": 3
   },
   "file_extension": ".py",
   "mimetype": "text/x-python",
   "name": "python",
   "nbconvert_exporter": "python",
   "pygments_lexer": "ipython3",
   "version": "3.10.12"
  }
 },
 "nbformat": 4,
 "nbformat_minor": 5
}
